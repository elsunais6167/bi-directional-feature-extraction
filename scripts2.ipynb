{
 "cells": [
  {
   "cell_type": "code",
   "execution_count": null,
   "metadata": {},
   "outputs": [],
   "source": [
    "import pandas as pd\n",
    "from ast import literal_eval\n",
    "from sklearn.feature_extraction.text import CountVectorizer\n",
    "\n",
    "# List of dataset filenames\n",
    "dataset_filenames = ['twitter_train.csv', 'restaurants_train.csv', ]\n",
    "\n",
    "for filename in dataset_filenames:\n",
    "    # Read the dataset\n",
    "    data = pd.read_csv(filename)\n",
    "\n",
    "    # Convert string representations of lists to actual lists\n",
    "    data['Tokens'] = data['Tokens'].apply(literal_eval)\n",
    "    data['Tags'] = data['Tags'].apply(literal_eval)\n",
    "    data['Polarities'] = data['Polarities'].apply(literal_eval)\n",
    "\n",
    "    # Convert polarity values from string to numeric\n",
    "    data['Polarities'] = data['Polarities'].apply(lambda x: [int(val) for val in x])\n",
    "\n",
    "    # Combine the tokenized text from all rows\n",
    "    all_documents = [' '.join(tokens) for tokens in data['Tokens']]\n",
    "\n",
    "    # Use CountVectorizer to transform the tokenized text into a feature matrix\n",
    "    vectorizer = CountVectorizer()\n",
    "    X = vectorizer.fit_transform(all_documents)\n",
    "\n",
    "    # Get feature names\n",
    "    feature_names = vectorizer.get_feature_names_out()\n",
    "\n",
    "    # Set the threshold for co-occurrence\n",
    "    threshold = 10\n",
    "\n",
    "    # Identify relevant features (co-occurring terms)\n",
    "    relevant_features = [\n",
    "        (feature_names[i], feature_names[j])\n",
    "        for i, row in enumerate(X.T.toarray())\n",
    "        for j, count in enumerate(row)\n",
    "        if count >= threshold and i != j\n",
    "    ]\n",
    "\n",
    "    # Print or do something with the relevant features\n",
    "    print(f\"Relevant features for {filename}: {relevant_features}\")\n"
   ]
  }
 ],
 "metadata": {
  "language_info": {
   "name": "python"
  }
 },
 "nbformat": 4,
 "nbformat_minor": 2
}
