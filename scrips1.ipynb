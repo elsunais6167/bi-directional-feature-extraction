{
 "cells": [
  {
   "cell_type": "code",
   "execution_count": 1,
   "metadata": {},
   "outputs": [
    {
     "name": "stderr",
     "output_type": "stream",
     "text": [
      "c:\\Users\\YANSILIYU\\AppData\\Local\\Programs\\Python\\Python311\\Lib\\site-packages\\tqdm\\auto.py:21: TqdmWarning: IProgress not found. Please update jupyter and ipywidgets. See https://ipywidgets.readthedocs.io/en/stable/user_install.html\n",
      "  from .autonotebook import tqdm as notebook_tqdm\n"
     ]
    }
   ],
   "source": [
    "import pandas as pd\n",
    "from sklearn.feature_extraction.text import CountVectorizer\n",
    "from transformers import BertTokenizer, BertForSequenceClassification\n",
    "from torch.utils.data import DataLoader, TensorDataset\n",
    "import torch"
   ]
  },
  {
   "cell_type": "code",
   "execution_count": 2,
   "metadata": {},
   "outputs": [],
   "source": [
    "# Read Twitter and Restaurants data from CSV files\n",
    "twitter_data = pd.read_csv('twitter_train.csv')\n",
    "restaurants_data = pd.read_csv('restaurants_train.csv')\n",
    "\n",
    "# Combine the text data from both domains\n",
    "all_documents = list(twitter_data['Tokens']) + list(restaurants_data['Tokens'])"
   ]
  },
  {
   "cell_type": "markdown",
   "metadata": {},
   "source": [
    "Step 1: Term Co-occurrence Analysis"
   ]
  },
  {
   "cell_type": "code",
   "execution_count": 4,
   "metadata": {},
   "outputs": [],
   "source": [
    "# Tokenize and create a co-occurrence matrix\n",
    "vectorizer = CountVectorizer()\n",
    "X = vectorizer.fit_transform(all_documents)\n",
    "\n",
    "# Get feature names and co-occurrence matrix\n",
    "feature_names = vectorizer.get_feature_names_out()\n",
    "\n",
    "# Extract relevant features based on co-occurrence matrix\n",
    "threshold = 2  # Adjust as needed\n",
    "relevant_features = [\n",
    "    (feature_names[i], feature_names[j])\n",
    "    for i, row in enumerate(X.T.toarray())\n",
    "    for j, count in enumerate(row)\n",
    "    if count >= threshold and i != j\n",
    "]"
   ]
  },
  {
   "cell_type": "markdown",
   "metadata": {},
   "source": [
    "Step 2: Transformer Model for Semantic Understanding"
   ]
  },
  {
   "cell_type": "code",
   "execution_count": null,
   "metadata": {},
   "outputs": [],
   "source": [
    "# Combine the text and labels from both domains\n",
    "all_texts = list(twitter_data['Tokens']) + list(restaurants_data['Tokens'])\n",
    "all_labels = list(twitter_data['Polarities']) + list(restaurants_data['Polarities'])"
   ]
  },
  {
   "cell_type": "code",
   "execution_count": null,
   "metadata": {},
   "outputs": [],
   "source": [
    "# Tokenize the data\n",
    "tokenizer = BertTokenizer.from_pretrained(\"bert-base-uncased\")\n",
    "tokenized_texts = tokenizer(all_texts, padding=True, truncation=True, return_tensors=\"pt\")"
   ]
  },
  {
   "cell_type": "code",
   "execution_count": null,
   "metadata": {},
   "outputs": [],
   "source": [
    "# Create DataLoader\n",
    "dataset = TensorDataset(\n",
    "    tokenized_texts[\"input_ids\"],\n",
    "    tokenized_texts[\"attention_mask\"],\n",
    "    torch.tensor(all_labels, dtype=torch.float32).view(-1, 1)  # Adjust the view based on your label shape\n",
    ")\n",
    "dataloader = DataLoader(dataset, batch_size=4, shuffle=True)"
   ]
  },
  {
   "cell_type": "code",
   "execution_count": null,
   "metadata": {},
   "outputs": [],
   "source": [
    "# Load pre-trained BERT model for sequence classification\n",
    "model = BertForSequenceClassification.from_pretrained(\"bert-base-uncased\", num_labels=1)  # Assuming polarities are regression values"
   ]
  },
  {
   "cell_type": "code",
   "execution_count": null,
   "metadata": {},
   "outputs": [],
   "source": [
    "# Fine-tuning loop (adjust as needed)\n",
    "optimizer = torch.optim.AdamW(model.parameters(), lr=5e-5)\n",
    "\n",
    "for epoch in range(3):  # Adjust the number of epochs\n",
    "    for batch in dataloader:\n",
    "        inputs, attention_mask, label = batch\n",
    "        optimizer.zero_grad()\n",
    "        outputs = model(inputs, attention_mask=attention_mask, labels=label)\n",
    "        loss = outputs.loss\n",
    "        loss.backward()\n",
    "        optimizer.step()"
   ]
  }
 ],
 "metadata": {
  "kernelspec": {
   "display_name": "Python 3",
   "language": "python",
   "name": "python3"
  },
  "language_info": {
   "codemirror_mode": {
    "name": "ipython",
    "version": 3
   },
   "file_extension": ".py",
   "mimetype": "text/x-python",
   "name": "python",
   "nbconvert_exporter": "python",
   "pygments_lexer": "ipython3",
   "version": "3.11.5"
  }
 },
 "nbformat": 4,
 "nbformat_minor": 2
}
