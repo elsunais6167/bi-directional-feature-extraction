{
 "cells": [
  {
   "cell_type": "code",
   "execution_count": 1,
   "metadata": {},
   "outputs": [
    {
     "name": "stderr",
     "output_type": "stream",
     "text": [
      "c:\\Users\\YANSILIYU\\AppData\\Local\\Programs\\Python\\Python311\\Lib\\site-packages\\tqdm\\auto.py:21: TqdmWarning: IProgress not found. Please update jupyter and ipywidgets. See https://ipywidgets.readthedocs.io/en/stable/user_install.html\n",
      "  from .autonotebook import tqdm as notebook_tqdm\n"
     ]
    }
   ],
   "source": [
    "import pandas as pd\n",
    "from ast import literal_eval\n",
    "from sklearn.feature_extraction.text import CountVectorizer\n",
    "from transformers import BertTokenizer, BertModel\n",
    "import torch\n",
    "from collections import Counter\n",
    "\n",
    "# List of dataset filenames\n",
    "dataset_filenames = ['twitter_train.csv', 'restaurants_train.csv', 'laptops_train.csv']\n",
    "\n",
    "# Initialize a Counter to store the co-occurrence frequencies\n",
    "co_occurrence_counter = Counter()\n",
    "\n",
    "# Load pre-trained BERT tokenizer and model\n",
    "tokenizer = BertTokenizer.from_pretrained('bert-base-uncased')\n",
    "model = BertModel.from_pretrained('bert-base-uncased')\n",
    "\n",
    "# Set the device to GPU if available\n",
    "device = torch.device(\"cuda\" if torch.cuda.is_available() else \"cpu\")\n",
    "model.to(device)\n",
    "\n",
    "for filename in dataset_filenames:\n",
    "    # Read the dataset\n",
    "    data = pd.read_csv(filename)\n",
    "\n",
    "    # Convert string representations of lists to actual lists\n",
    "    data['Tokens'] = data['Tokens'].apply(literal_eval)\n",
    "\n",
    "    # Combine the tokenized text from all rows\n",
    "    all_documents = [' '.join(tokens) for tokens in data['Tokens']]\n",
    "\n",
    "    # Tokenize and get BERT embeddings\n",
    "    encoded_input = tokenizer(all_documents, return_tensors='pt', padding=True, truncation=True, max_length=128)\n",
    "    encoded_input.to(device)\n",
    "    with torch.no_grad():\n",
    "        outputs = model(**encoded_input)\n",
    "        embeddings = outputs.last_hidden_state.mean(dim=1).cpu().numpy()\n",
    "\n",
    "    # Use CountVectorizer to transform the tokenized text into a feature matrix\n",
    "    vectorizer = CountVectorizer()\n",
    "    X = vectorizer.fit_transform(all_documents)\n",
    "\n",
    "    # Get feature names\n",
    "    feature_names = vectorizer.get_feature_names_out()\n",
    "\n",
    "    # Set the threshold for co-occurrence\n",
    "    threshold = 2\n",
    "\n",
    "    # Identify relevant features (co-occurring terms)\n",
    "    relevant_features = [\n",
    "        (feature_names[i], feature_names[j])\n",
    "        for i, row in enumerate(X.T.toarray())\n",
    "        for j, count in enumerate(row)\n",
    "        if count >= threshold and i != j\n",
    "    ]\n",
    "\n",
    "    # Update the co-occurrence counter with the relevant features\n",
    "    co_occurrence_counter.update(relevant_features)\n",
    "\n",
    "# Print or use the co-occurrence frequencies as weights\n",
    "print(\"Co-occurrence frequencies:\")\n",
    "for feature, frequency in co_occurrence_counter.items():\n",
    "    print(f\"{feature}: {frequency}\")\n"
   ]
  }
 ],
 "metadata": {
  "kernelspec": {
   "display_name": "Python 3",
   "language": "python",
   "name": "python3"
  },
  "language_info": {
   "codemirror_mode": {
    "name": "ipython",
    "version": 3
   },
   "file_extension": ".py",
   "mimetype": "text/x-python",
   "name": "python",
   "nbconvert_exporter": "python",
   "pygments_lexer": "ipython3",
   "version": "3.11.5"
  }
 },
 "nbformat": 4,
 "nbformat_minor": 2
}
